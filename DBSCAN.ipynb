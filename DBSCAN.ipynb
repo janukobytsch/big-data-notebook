{
 "cells": [
  {
   "cell_type": "markdown",
   "metadata": {},
   "source": [
    "DBSCAN\n",
    "======"
   ]
  },
  {
   "cell_type": "code",
   "execution_count": 1,
   "metadata": {
    "collapsed": true
   },
   "outputs": [],
   "source": [
    "import matplotlib.pyplot as plt\n",
    "import numpy as np\n",
    "import math\n",
    "%matplotlib inline"
   ]
  },
  {
   "cell_type": "markdown",
   "metadata": {},
   "source": [
    "Consider the following two-dimensional dataset"
   ]
  },
  {
   "cell_type": "code",
   "execution_count": 112,
   "metadata": {
    "collapsed": false
   },
   "outputs": [
    {
     "data": {
      "image/png": "[encoded data removed]",
      "text/plain": [
       "<matplotlib.figure.Figure at 0x7f2035a84e10>"
      ]
     },
     "metadata": {},
     "output_type": "display_data"
    }
   ],
   "source": [
    "dataset = np.array([\n",
    "    (2, 4), (2, 6), (3, 1), (3, 5),\n",
    "    (3, 6), (3, 7), (4, 8), (5, 8),\n",
    "    (5, 9), (6, 7), (7, 2), (7, 7),\n",
    "    (8, 2), (8, 4), (9, 3), (9, 4),\n",
    "])\n",
    "boundary = max(dataset[:,0].max(), dataset[:,1].max()) + 1\n",
    "\n",
    "plt.axis([0, boundary, 0, boundary])\n",
    "plt.axes().set_aspect('equal')\n",
    "plt.scatter(dataset[:,0], dataset[:,1], c=np.ones(len(dataset)), s=50)\n",
    "plt.show()"
   ]
  },
  {
   "cell_type": "markdown",
   "metadata": {},
   "source": [
    "Determine input parameters\n",
    "------------------------------\n",
    "Use the k-distance heuristic to determine input parameters MinPts and epsilon for DBSCAN using the Manhattan distance. The heuristic works by fixing MinPts = 2*d-1 (d = dimensions of data space, so MinPts = 3 in this case) and determining the k-NN distance for each point."
   ]
  },
  {
   "cell_type": "code",
   "execution_count": 30,
   "metadata": {
    "collapsed": false
   },
   "outputs": [],
   "source": [
    "def manhattan_distance(a, b):\n",
    "    return np.abs(a-b).sum()\n",
    "\n",
    "def euclidean_distance(a, b):\n",
    "    return np.linalg.norm(a-b)"
   ]
  },
  {
   "cell_type": "code",
   "execution_count": 50,
   "metadata": {
    "collapsed": false
   },
   "outputs": [
    {
     "data": {
      "text/plain": [
       "[<matplotlib.lines.Line2D at 0x7f2035ba8710>]"
      ]
     },
     "execution_count": 50,
     "metadata": {},
     "output_type": "execute_result"
    },
    {
     "data": {
      "image/png": "[encoded data removed]",
      "text/plain": [
       "<matplotlib.figure.Figure at 0x7f2035ba8898>"
      ]
     },
     "metadata": {},
     "output_type": "display_data"
    }
   ],
   "source": [
    "def knn_distance(point, dataset, k=3, metric=manhattan_distance):\n",
    "    if not k:\n",
    "        return 0\n",
    "    # k-NN could be retrieved using r-tree to increase effiency\n",
    "    distances = [metric(point, point2) for point2 in dataset]\n",
    "    return np.sort(distances)[k-1]\n",
    "\n",
    "# retrieve and plot epsilon for each object\n",
    "epsilons = []\n",
    "for point in dataset:\n",
    "    epsilons.append(knn_distance(point, dataset))\n",
    "epsilons = np.sort(epsilons)[::-1]\n",
    "\n",
    "plt.axis([0, len(dataset), 0, np.max(epsilons)+1])\n",
    "plt.plot(epsilons, 'o')"
   ]
  },
  {
   "cell_type": "markdown",
   "metadata": {},
   "source": [
    "Choose epsilon = knn_distance(o) such that o is the border object of the least dense cluster in our dataset, i.e. epsilon = 2 in this case.\n",
    "\n",
    "Apply DBSCAN\n",
    "--------------\n",
    "\n",
    "Apply DBSCAN to the given data set using the Euclidean distance, MinPts = 4 and epsilon = 2.2. Give the resulting clusters as sets of points and a list of all core objects"
   ]
  },
  {
   "cell_type": "code",
   "execution_count": 181,
   "metadata": {
    "collapsed": false
   },
   "outputs": [
    {
     "name": "stdout",
     "output_type": "stream",
     "text": [
      "cluster (9, 3)\n",
      "assign (8, 2) 1\n",
      "expand (8, 2)\n",
      "assign (7, 2) 1\n",
      "assign (8, 4) 1\n",
      "expand (8, 4)\n",
      "assign (9, 4) 1\n",
      "assign (9, 4) 1\n",
      "cluster (5, 8)\n",
      "assign (4, 8) 2\n",
      "expand (4, 8)\n",
      "assign (3, 7) 2\n",
      "expand (3, 7)\n",
      "assign (2, 6) 2\n",
      "expand (2, 6)\n",
      "assign (2, 4) 2\n",
      "assign (3, 5) 2\n",
      "expand (3, 5)\n",
      "assign (2, 4) 2\n",
      "assign (3, 6) 2\n",
      "expand (3, 6)\n",
      "assign (5, 9) 2\n",
      "assign (5, 9) 2\n",
      "assign (6, 7) 2\n"
     ]
    },
    {
     "data": {
      "image/png": "[encoded data removed]",
      "text/plain": [
       "<matplotlib.figure.Figure at 0x7f202ffbc400>"
      ]
     },
     "metadata": {},
     "output_type": "display_data"
    }
   ],
   "source": [
    "class DBSCAN:\n",
    "    \n",
    "    def __init__(self, epsilon, min_points, metric):\n",
    "        self.epsilon = epsilon\n",
    "        self.min_points = min_points\n",
    "        self.metric = metric\n",
    "        self.dataset = None\n",
    "        self.assignment = None\n",
    "        self.unvisited = None\n",
    "    \n",
    "    def __call__(self, dataset):\n",
    "        \"\"\"Returns a vector of cluster indizes for every point in the dataset\n",
    "        with cluster 0 containing noise.\"\"\"\n",
    "        self.dataset = [tuple(p) for p in dataset]\n",
    "        self.unvisited = [tuple(p) for p in dataset]\n",
    "        self.assignment = {}\n",
    "        cluster_index = 0\n",
    "        while len(self.unvisited):\n",
    "            point = self.unvisited.pop()\n",
    "            neighbours = self._neighbours(point)\n",
    "            if self._is_core(point, neighbours):\n",
    "                print(\"cluster\", point)\n",
    "                cluster_index += 1\n",
    "                self.assignment[point] = cluster_index\n",
    "                self._collect(neighbours, cluster_index, [point])\n",
    "            else:\n",
    "                self.assignment[point] = 0\n",
    "        return np.array([self.assignment[x] for x in self.dataset])\n",
    "    \n",
    "    def _collect(self, points, cluster_index, closure):\n",
    "        \"\"\"Recursively expands the cluster by collecting all density-reachable\n",
    "        points in a transitive closure. The closure initially only contains\n",
    "        the core object that was selected as a representative.\"\"\"\n",
    "        for point in points:\n",
    "            if point in closure:\n",
    "                continue\n",
    "            print(\"assign\", point, cluster_index)\n",
    "            self.assignment[point] = cluster_index\n",
    "            if point in self.unvisited:\n",
    "                self.unvisited.remove(point)\n",
    "            neighbours = self._neighbours(point)\n",
    "            if self._is_core(point, neighbours):\n",
    "                print(\"expand\", point)\n",
    "                closure.append(point)\n",
    "                self._collect(neighbours, cluster_index, closure)\n",
    "    \n",
    "    def _neighbours(self, point):\n",
    "        neighbours = []\n",
    "        for point2 in self.dataset:\n",
    "            if point == point2:\n",
    "                continue\n",
    "            if self.metric(np.array(point), np.array(point2)) <= self.epsilon:\n",
    "                neighbours.append(point2)\n",
    "        return neighbours\n",
    "    \n",
    "    def _is_core(self, point, neighbours):\n",
    "        # plus one for point itself\n",
    "        return len(neighbours) + 1 >= self.min_points\n",
    "\n",
    "assignment = DBSCAN(epsilon=2.2, min_points=4, metric=euclidean_distance)(dataset)\n",
    "\n",
    "plt.axis([0, boundary, 0, boundary])\n",
    "plt.axes().set_aspect('equal')\n",
    "plt.scatter(dataset[:,0], dataset[:,1], c=assignment, s=50)\n",
    "plt.show()"
   ]
  }
 ],
 "metadata": {
  "kernelspec": {
   "display_name": "Python 3",
   "language": "python",
   "name": "python3"
  },
  "language_info": {
   "codemirror_mode": {
    "name": "ipython",
    "version": 3
   },
   "file_extension": ".py",
   "mimetype": "text/x-python",
   "name": "python",
   "nbconvert_exporter": "python",
   "pygments_lexer": "ipython3",
   "version": "3.4.0"
  }
 },
 "nbformat": 4,
 "nbformat_minor": 0
}
