{
 "cells": [
  {
   "cell_type": "markdown",
   "metadata": {},
   "source": [
    "Entropy-based discretization\n",
    "============================\n",
    "Entropy-based discretization is a supervised binning approach that aims at finding boundaries for\n",
    "discretization that keep the class labels of the resulting bins as pure as possible. "
   ]
  },
  {
   "cell_type": "code",
   "execution_count": 39,
   "metadata": {
    "collapsed": true
   },
   "outputs": [],
   "source": [
    "import numpy as np\n",
    "import matplotlib.pyplot as plt\n",
    "import math\n",
    "%matplotlib inline"
   ]
  },
  {
   "cell_type": "markdown",
   "metadata": {},
   "source": [
    "Consider the following set of sensor measurements a i with class labels c i ∈ {OK, FAIL}:"
   ]
  },
  {
   "cell_type": "code",
   "execution_count": 40,
   "metadata": {
    "collapsed": false
   },
   "outputs": [
    {
     "name": "stdout",
     "output_type": "stream",
     "text": [
      "[[  0.1   0. ]\n",
      " [  0.2   0. ]\n",
      " [  0.8   1. ]\n",
      " [  0.9   1. ]\n",
      " [  1.    0. ]\n",
      " [  4.    1. ]\n",
      " [ 10.    1. ]\n",
      " [ 50.    1. ]]\n"
     ]
    }
   ],
   "source": [
    "measurements = np.array([[0.1, 0], [0.2, 0], [0.8, 1], [0.9, 1], [1.0, 0], [4.0, 1], [10.0, 1], [50.0, 1]]).astype(float)\n",
    "print(measurements)"
   ]
  },
  {
   "cell_type": "markdown",
   "metadata": {},
   "source": [
    "Equi-width partitioning doesn't work so well for keeping class labels pure within bins:"
   ]
  },
  {
   "cell_type": "code",
   "execution_count": 41,
   "metadata": {
    "collapsed": false
   },
   "outputs": [
    {
     "data": {
      "text/plain": [
       "(array([ 7.,  0.,  0.,  0.,  1.]),\n",
       " array([  0.1 ,  10.08,  20.06,  30.04,  40.02,  50.  ]),\n",
       " <a list of 5 Patch objects>)"
      ]
     },
     "execution_count": 41,
     "metadata": {},
     "output_type": "execute_result"
    },
    {
     "data": {
      "image/png": "[encoded data removed]",
      "text/plain": [
       "<matplotlib.figure.Figure at 0x7fcb9b4eb390>"
      ]
     },
     "metadata": {},
     "output_type": "display_data"
    }
   ],
   "source": [
    "plt.hist(measurements[:,0], bins=5)"
   ]
  },
  {
   "cell_type": "markdown",
   "metadata": {},
   "source": [
    "The first bin contains about the same number of samples from both classes. We need a better solution. Hence: Compute the entropy for the candidate boundaries T = 0.5, T = 0.95, T = 2.5. Which boundary\n",
    "gives the best discretization? Use that boundary to discretize the data."
   ]
  },
  {
   "cell_type": "code",
   "execution_count": 47,
   "metadata": {
    "collapsed": false
   },
   "outputs": [
    {
     "name": "stdout",
     "output_type": "stream",
     "text": [
      "[0.7382124193598535, 0.9162583131090227, 0.8999329589909884]\n",
      "[0.1984549625177091, 0.020409068768539873, 0.03673442288657425]\n"
     ]
    }
   ],
   "source": [
    "def split(array, cond, axis=0):\n",
    "    # helper for conditional slicing\n",
    "    index = 0\n",
    "    for x in array[:,axis]:\n",
    "        if not cond(x):\n",
    "            break\n",
    "        index += 1\n",
    "    return np.split(array, [index], axis=axis)\n",
    "\n",
    "def entropy(partition):\n",
    "    labels = np.unique(partition[:,1])\n",
    "    counts = [sum(1 for x in filter(lambda x: x == label, partition[:,1])) for label in labels]\n",
    "    entropy = 0\n",
    "    for label,count in zip(labels,counts):\n",
    "        probability = count / sum(x for x in counts)\n",
    "        entropy -= probability * math.log(probability, 2)\n",
    "    return entropy\n",
    "\n",
    "def info(dataset, threshold):\n",
    "    # combined entropy based on bin-weight\n",
    "    part1, part2 = split(dataset, lambda x: x < threshold, axis=0)\n",
    "    return len(part1) / len(dataset) * entropy(part1) + len(part2) / len(dataset) * entropy(part2)\n",
    "\n",
    "tresholds = [0.5, 0.95, 2.5]\n",
    "infos = [info(measurements, t) for t in tresholds]\n",
    "print(infos)\n",
    "initial_entropy = entropy(measurements)\n",
    "gains = [initial_entropy - info for info in infos]\n",
    "print(gains)\n"
   ]
  },
  {
   "cell_type": "markdown",
   "metadata": {},
   "source": [
    "Now discretize based on highest information gain:"
   ]
  },
  {
   "cell_type": "code",
   "execution_count": 43,
   "metadata": {
    "collapsed": false,
    "scrolled": true
   },
   "outputs": [
    {
     "data": {
      "text/plain": [
       "(array([ 2.,  6.]), array([  0.1,   0.5,  50. ]), <a list of 2 Patch objects>)"
      ]
     },
     "execution_count": 43,
     "metadata": {},
     "output_type": "execute_result"
    },
    {
     "data": {
      "image/png": "[encoded data removed]",
      "text/plain": [
       "<matplotlib.figure.Figure at 0x7fcb9b784588>"
      ]
     },
     "metadata": {},
     "output_type": "display_data"
    }
   ],
   "source": [
    "best_treshold = tresholds[gains.index(max(gains))]\n",
    "interval = np.min(measurements[:,0]), best_treshold, np.max(measurements[:,0])\n",
    "plt.hist(measurements[:,0], bins=interval)"
   ]
  },
  {
   "cell_type": "markdown",
   "metadata": {},
   "source": [
    "This leaves us with almost completely pure bins (only a single fail in the second bin).\n",
    "\n",
    "Finding the best split\n",
    "-------------------------\n",
    "\n",
    "To find the best split, we recursively average two neighboring values in the list and select the split with the highest information gain."
   ]
  },
  {
   "cell_type": "code",
   "execution_count": 44,
   "metadata": {
    "collapsed": false
   },
   "outputs": [
    {
     "data": {
      "image/png": "[encoded data removed]",
      "text/plain": [
       "<matplotlib.figure.Figure at 0x7fcb9b68b780>"
      ]
     },
     "metadata": {},
     "output_type": "display_data"
    }
   ],
   "source": [
    "split_indices = []\n",
    "\n",
    "def best_split(partition, entropy):\n",
    "    highest_gain = 0\n",
    "    split_index = -1\n",
    "    for i, v in enumerate(partition[:,0]):\n",
    "        if i >= len(partition[:,0]) - 1:\n",
    "            break\n",
    "        next_v = partition[:,0][i+1]\n",
    "        avg = (v + next_v) / 2\n",
    "        new_entropy = info(partition, avg)\n",
    "        gain = entropy - new_entropy\n",
    "        if gain > highest_gain:\n",
    "            highest_gain = gain\n",
    "            split_index = i + 1\n",
    "    return split_index, highest_gain\n",
    "            \n",
    "def fit_bins(dataset, start_index=0, max_gain=0.05):\n",
    "    current_entropy = entropy(dataset)\n",
    "    split_index, gain = best_split(dataset, current_entropy)\n",
    "    if gain > max_gain:\n",
    "        split_indices.append(start_index + split_index)\n",
    "        part1, part2 = np.split(dataset, [split_index], axis=0)\n",
    "        fit_bins(part1, start_index, max_gain)\n",
    "        fit_bins(part2, start_index + split_index, max_gain)\n",
    "\n",
    "def plot_bins(dataset, max_gain):\n",
    "    fit_bins(dataset, max_gain=max_gain)\n",
    "    start = 0.0\n",
    "    end = dataset[:,0][len(dataset)-1]\n",
    "    intervals = sorted([start] + [dataset[:,0][index] for index in split_indices] + [end])\n",
    "    plt.hist(dataset[:,0], bins=intervals)\n",
    "\n",
    "plot_bins(measurements, max_gain=0.15)"
   ]
  },
  {
   "cell_type": "markdown",
   "metadata": {},
   "source": [
    "Entropy tolerance\n",
    "------------------\n",
    "The algorithm implements an information gain threshold as the stopping criterion, which allows us to control the purity i.e. granularity of the bins. The binning will be more tolerant towards high-entropy bins (with multiple classes) if this value is high. Consider the following examples for a slightly larger dataset:"
   ]
  },
  {
   "cell_type": "code",
   "execution_count": 45,
   "metadata": {
    "collapsed": false
   },
   "outputs": [
    {
     "data": {
      "image/png": "[encoded data removed]",
      "text/plain": [
       "<matplotlib.figure.Figure at 0x7fcb9b771a20>"
      ]
     },
     "metadata": {},
     "output_type": "display_data"
    }
   ],
   "source": [
    "measurements = np.array([[0.1, 0], [0.2, 0], [0.8, 1], [0.9, 1], [1.0, 0], [2.0, 1], [4.0, 1], [10.0, 1], [15.0, 0], [27.0, 1], [29.0, 1], [39,0], [50.0, 1], [51.0, 1], [52.0, 0], [60.0, 1], [61.0, 1]]).astype(float)\n",
    "split_indices = []\n",
    "plot_bins(measurements, max_gain=0.01) # high granularity"
   ]
  },
  {
   "cell_type": "code",
   "execution_count": 46,
   "metadata": {
    "collapsed": false
   },
   "outputs": [
    {
     "data": {
      "image/png": "[encoded data removed]",
      "text/plain": [
       "<matplotlib.figure.Figure at 0x7fcb9b83c3c8>"
      ]
     },
     "metadata": {},
     "output_type": "display_data"
    }
   ],
   "source": [
    "split_indices = []\n",
    "plot_bins(measurements, max_gain=0.5) # low granularity"
   ]
  },
  {
   "cell_type": "code",
   "execution_count": null,
   "metadata": {
    "collapsed": true
   },
   "outputs": [],
   "source": []
  }
 ],
 "metadata": {
  "kernelspec": {
   "display_name": "Python 3",
   "language": "python",
   "name": "python3"
  },
  "language_info": {
   "codemirror_mode": {
    "name": "ipython",
    "version": 3
   },
   "file_extension": ".py",
   "mimetype": "text/x-python",
   "name": "python",
   "nbconvert_exporter": "python",
   "pygments_lexer": "ipython3",
   "version": "3.4.0"
  }
 },
 "nbformat": 4,
 "nbformat_minor": 0
}
